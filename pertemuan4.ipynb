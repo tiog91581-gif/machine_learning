{
 "cells": [
  {
   "cell_type": "code",
   "execution_count": 1,
   "id": "1a6c7ea5",
   "metadata": {},
   "outputs": [
    {
     "name": "stdout",
     "output_type": "stream",
     "text": [
      "<class 'pandas.core.frame.DataFrame'>\n",
      "RangeIndex: 10 entries, 0 to 9\n",
      "Data columns (total 4 columns):\n",
      " #   Column             Non-Null Count  Dtype  \n",
      "---  ------             --------------  -----  \n",
      " 0   IPK                10 non-null     float64\n",
      " 1   Jumlah_Absensi     10 non-null     int64  \n",
      " 2   Waktu_Belajar_Jam  10 non-null     int64  \n",
      " 3   Lulus              10 non-null     int64  \n",
      "dtypes: float64(1), int64(3)\n",
      "memory usage: 448.0 bytes\n",
      "None\n",
      "   IPK  Jumlah_Absensi  Waktu_Belajar_Jam  Lulus\n",
      "0  3.8               3                 10      1\n",
      "1  2.5               8                  5      0\n",
      "2  3.4               4                  7      1\n",
      "3  2.1              12                  2      0\n",
      "4  3.9               2                 12      1\n"
     ]
    }
   ],
   "source": [
    "import pandas as pd\n",
    "df = pd.read_csv(\"kelulusan_mahasiswa.csv\")\n",
    "print(df.info())\n",
    "print(df.head())"
   ]
  },
  {
   "cell_type": "code",
   "execution_count": 2,
   "id": "a83857b0",
   "metadata": {},
   "outputs": [
    {
     "name": "stdout",
     "output_type": "stream",
     "text": [
      "IPK                  0\n",
      "Jumlah_Absensi       0\n",
      "Waktu_Belajar_Jam    0\n",
      "Lulus                0\n",
      "dtype: int64\n"
     ]
    },
    {
     "data": {
      "text/plain": [
       "<Axes: xlabel='IPK'>"
      ]
     },
     "execution_count": 2,
     "metadata": {},
     "output_type": "execute_result"
    },
    {
     "data": {
      "image/png": "[encoded data removed]",
      "text/plain": [
       "<Figure size 640x480 with 1 Axes>"
      ]
     },
     "metadata": {},
     "output_type": "display_data"
    }
   ],
   "source": [
    "print(df.isnull().sum())\n",
    "df = df.drop_duplicates()\n",
    "\n",
    "import seaborn as sns\n",
    "sns.boxplot(x=df['IPK'])"
   ]
  },
  {
   "cell_type": "code",
   "execution_count": null,
   "id": "42afa893",
   "metadata": {},
   "outputs": [],
   "source": [
    "print(df.describe())\n",
    "sns.histplot(df['IPK'], bins=10, kde=True)\n",
    "sns.scatterplot(x='IPK', y='Waktu_Belajar_Jam', data=df, hue='Lulus')\n",
    "sns.heatmap(df.corr(), annot=True, cmap=\"coolwarm\")\n"
   ]
  },
  {
   "cell_type": "code",
   "execution_count": null,
   "id": "1a64c6ca",
   "metadata": {},
   "outputs": [],
   "source": [
    "df['Rasio_Absensi'] = df['Jumlah_Absensi'] / 14\n",
    "df['IPK_x_Study'] = df['IPK'] * df['Waktu_Belajar_Jam']\n",
    "df.to_csv(\"processed_kelulusan.csv\", index=False)"
   ]
  },
  {
   "cell_type": "code",
   "execution_count": null,
   "id": "a91c63e1",
   "metadata": {},
   "outputs": [],
   "source": [
    "from sklearn.model_selection import train_test_split\n",
    "\n",
    "X = df.drop('Lulus', axis=1)\n",
    "y = df['Lulus']\n",
    "\n",
    "X_train, X_temp, y_train, y_temp = train_test_split(\n",
    "    X, y, test_size=0.3, stratify=y, random_state=42)\n",
    "\n",
    "X_val, X_test, y_val, y_test = train_test_split(\n",
    "    X_temp, y_temp, test_size=0.5, random_state=42)\n",
    "\n",
    "print(X_train.shape, X_val.shape, X_test.shape)"
   ]
  }
 ],
 "metadata": {
  "kernelspec": {
   "display_name": "nama_env",
   "language": "python",
   "name": "python3"
  },
  "language_info": {
   "codemirror_mode": {
    "name": "ipython",
    "version": 3
   },
   "file_extension": ".py",
   "mimetype": "text/x-python",
   "name": "python",
   "nbconvert_exporter": "python",
   "pygments_lexer": "ipython3",
   "version": "3.10.11"
  }
 },
 "nbformat": 4,
 "nbformat_minor": 5
}
