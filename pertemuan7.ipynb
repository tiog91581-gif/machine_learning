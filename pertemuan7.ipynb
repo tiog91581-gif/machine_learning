{
 "cells": [
  {
   "cell_type": "code",
   "execution_count": 17,
   "id": "53e823be",
   "metadata": {},
   "outputs": [
    {
     "name": "stdout",
     "output_type": "stream",
     "text": [
      "(7, 5) (1, 5) (2, 5)\n"
     ]
    }
   ],
   "source": [
    "import pandas as pd\n",
    "from sklearn.model_selection import train_test_split\n",
    "from sklearn.preprocessing import StandardScaler\n",
    "\n",
    "df = pd.read_csv(\"processed_kelulusan.csv\")\n",
    "X = df.drop(\"Lulus\", axis=1)\n",
    "y = df[\"Lulus\"]\n",
    "\n",
    "sc = StandardScaler()\n",
    "Xs = sc.fit_transform(X)\n",
    "\n",
    "X_train, X_temp, y_train, y_temp = train_test_split(\n",
    "    Xs, y, test_size=0.3, stratify=y, random_state=42)\n",
    "X_val, X_test, y_val, y_test = train_test_split(\n",
    "    X_temp, y_temp, test_size=0.5,random_state=42)\n",
    "\n",
    "print(X_train.shape, X_val.shape, X_test.shape)"
   ]
  },
  {
   "cell_type": "code",
   "execution_count": 18,
   "id": "9514e885",
   "metadata": {},
   "outputs": [
    {
     "data": {
      "text/html": [
       "<pre style=\"white-space:pre;overflow-x:auto;line-height:normal;font-family:Menlo,'DejaVu Sans Mono',consolas,'Courier New',monospace\"><span style=\"font-weight: bold\">Model: \"sequential_1\"</span>\n",
       "</pre>\n"
      ],
      "text/plain": [
       "\u001b[1mModel: \"sequential_1\"\u001b[0m\n"
      ]
     },
     "metadata": {},
     "output_type": "display_data"
    },
    {
     "data": {
      "text/html": [
       "<pre style=\"white-space:pre;overflow-x:auto;line-height:normal;font-family:Menlo,'DejaVu Sans Mono',consolas,'Courier New',monospace\">┏━━━━━━━━━━━━━━━━━━━━━━━━━━━━━━━━━┳━━━━━━━━━━━━━━━━━━━━━━━━┳━━━━━━━━━━━━━━━┓\n",
       "┃<span style=\"font-weight: bold\"> Layer (type)                    </span>┃<span style=\"font-weight: bold\"> Output Shape           </span>┃<span style=\"font-weight: bold\">       Param # </span>┃\n",
       "┡━━━━━━━━━━━━━━━━━━━━━━━━━━━━━━━━━╇━━━━━━━━━━━━━━━━━━━━━━━━╇━━━━━━━━━━━━━━━┩\n",
       "│ dense_3 (<span style=\"color: #0087ff; text-decoration-color: #0087ff\">Dense</span>)                 │ (<span style=\"color: #00d7ff; text-decoration-color: #00d7ff\">None</span>, <span style=\"color: #00af00; text-decoration-color: #00af00\">32</span>)             │           <span style=\"color: #00af00; text-decoration-color: #00af00\">192</span> │\n",
       "├─────────────────────────────────┼────────────────────────┼───────────────┤\n",
       "│ dropout_1 (<span style=\"color: #0087ff; text-decoration-color: #0087ff\">Dropout</span>)             │ (<span style=\"color: #00d7ff; text-decoration-color: #00d7ff\">None</span>, <span style=\"color: #00af00; text-decoration-color: #00af00\">32</span>)             │             <span style=\"color: #00af00; text-decoration-color: #00af00\">0</span> │\n",
       "├─────────────────────────────────┼────────────────────────┼───────────────┤\n",
       "│ dense_4 (<span style=\"color: #0087ff; text-decoration-color: #0087ff\">Dense</span>)                 │ (<span style=\"color: #00d7ff; text-decoration-color: #00d7ff\">None</span>, <span style=\"color: #00af00; text-decoration-color: #00af00\">16</span>)             │           <span style=\"color: #00af00; text-decoration-color: #00af00\">528</span> │\n",
       "├─────────────────────────────────┼────────────────────────┼───────────────┤\n",
       "│ dense_5 (<span style=\"color: #0087ff; text-decoration-color: #0087ff\">Dense</span>)                 │ (<span style=\"color: #00d7ff; text-decoration-color: #00d7ff\">None</span>, <span style=\"color: #00af00; text-decoration-color: #00af00\">1</span>)              │            <span style=\"color: #00af00; text-decoration-color: #00af00\">17</span> │\n",
       "└─────────────────────────────────┴────────────────────────┴───────────────┘\n",
       "</pre>\n"
      ],
      "text/plain": [
       "┏━━━━━━━━━━━━━━━━━━━━━━━━━━━━━━━━━┳━━━━━━━━━━━━━━━━━━━━━━━━┳━━━━━━━━━━━━━━━┓\n",
       "┃\u001b[1m \u001b[0m\u001b[1mLayer (type)                   \u001b[0m\u001b[1m \u001b[0m┃\u001b[1m \u001b[0m\u001b[1mOutput Shape          \u001b[0m\u001b[1m \u001b[0m┃\u001b[1m \u001b[0m\u001b[1m      Param #\u001b[0m\u001b[1m \u001b[0m┃\n",
       "┡━━━━━━━━━━━━━━━━━━━━━━━━━━━━━━━━━╇━━━━━━━━━━━━━━━━━━━━━━━━╇━━━━━━━━━━━━━━━┩\n",
       "│ dense_3 (\u001b[38;5;33mDense\u001b[0m)                 │ (\u001b[38;5;45mNone\u001b[0m, \u001b[38;5;34m32\u001b[0m)             │           \u001b[38;5;34m192\u001b[0m │\n",
       "├─────────────────────────────────┼────────────────────────┼───────────────┤\n",
       "│ dropout_1 (\u001b[38;5;33mDropout\u001b[0m)             │ (\u001b[38;5;45mNone\u001b[0m, \u001b[38;5;34m32\u001b[0m)             │             \u001b[38;5;34m0\u001b[0m │\n",
       "├─────────────────────────────────┼────────────────────────┼───────────────┤\n",
       "│ dense_4 (\u001b[38;5;33mDense\u001b[0m)                 │ (\u001b[38;5;45mNone\u001b[0m, \u001b[38;5;34m16\u001b[0m)             │           \u001b[38;5;34m528\u001b[0m │\n",
       "├─────────────────────────────────┼────────────────────────┼───────────────┤\n",
       "│ dense_5 (\u001b[38;5;33mDense\u001b[0m)                 │ (\u001b[38;5;45mNone\u001b[0m, \u001b[38;5;34m1\u001b[0m)              │            \u001b[38;5;34m17\u001b[0m │\n",
       "└─────────────────────────────────┴────────────────────────┴───────────────┘\n"
      ]
     },
     "metadata": {},
     "output_type": "display_data"
    },
    {
     "data": {
      "text/html": [
       "<pre style=\"white-space:pre;overflow-x:auto;line-height:normal;font-family:Menlo,'DejaVu Sans Mono',consolas,'Courier New',monospace\"><span style=\"font-weight: bold\"> Total params: </span><span style=\"color: #00af00; text-decoration-color: #00af00\">737</span> (2.88 KB)\n",
       "</pre>\n"
      ],
      "text/plain": [
       "\u001b[1m Total params: \u001b[0m\u001b[38;5;34m737\u001b[0m (2.88 KB)\n"
      ]
     },
     "metadata": {},
     "output_type": "display_data"
    },
    {
     "data": {
      "text/html": [
       "<pre style=\"white-space:pre;overflow-x:auto;line-height:normal;font-family:Menlo,'DejaVu Sans Mono',consolas,'Courier New',monospace\"><span style=\"font-weight: bold\"> Trainable params: </span><span style=\"color: #00af00; text-decoration-color: #00af00\">737</span> (2.88 KB)\n",
       "</pre>\n"
      ],
      "text/plain": [
       "\u001b[1m Trainable params: \u001b[0m\u001b[38;5;34m737\u001b[0m (2.88 KB)\n"
      ]
     },
     "metadata": {},
     "output_type": "display_data"
    },
    {
     "data": {
      "text/html": [
       "<pre style=\"white-space:pre;overflow-x:auto;line-height:normal;font-family:Menlo,'DejaVu Sans Mono',consolas,'Courier New',monospace\"><span style=\"font-weight: bold\"> Non-trainable params: </span><span style=\"color: #00af00; text-decoration-color: #00af00\">0</span> (0.00 B)\n",
       "</pre>\n"
      ],
      "text/plain": [
       "\u001b[1m Non-trainable params: \u001b[0m\u001b[38;5;34m0\u001b[0m (0.00 B)\n"
      ]
     },
     "metadata": {},
     "output_type": "display_data"
    }
   ],
   "source": [
    "import tensorflow as tf\n",
    "from tensorflow import keras\n",
    "from tensorflow.keras import layers\n",
    "\n",
    "model = keras.Sequential([\n",
    "    layers.Input(shape=(X_train.shape[1],)),\n",
    "    layers.Dense(32, activation=\"relu\"),\n",
    "    layers.Dropout(0.3),\n",
    "    layers.Dense(16, activation=\"relu\"),\n",
    "    layers.Dense(1, activation=\"sigmoid\")  # klasifikasi biner\n",
    "])\n",
    "\n",
    "model.compile(optimizer=keras.optimizers.Adam(1e-3),\n",
    "              loss=\"binary_crossentropy\",\n",
    "              metrics=[\"accuracy\",\"AUC\"])\n",
    "model.summary()"
   ]
  },
  {
   "cell_type": "code",
   "execution_count": 15,
   "id": "476378a9",
   "metadata": {},
   "outputs": [
    {
     "name": "stdout",
     "output_type": "stream",
     "text": [
      "Epoch 1/100\n",
      "\u001b[1m1/1\u001b[0m \u001b[32m━━━━━━━━━━━━━━━━━━━━\u001b[0m\u001b[37m\u001b[0m \u001b[1m0s\u001b[0m 175ms/step - AUC: 1.0000 - accuracy: 1.0000 - loss: 0.0025 - val_AUC: 0.0000e+00 - val_accuracy: 1.0000 - val_loss: 1.8094e-04\n",
      "Epoch 2/100\n",
      "\u001b[1m1/1\u001b[0m \u001b[32m━━━━━━━━━━━━━━━━━━━━\u001b[0m\u001b[37m\u001b[0m \u001b[1m0s\u001b[0m 111ms/step - AUC: 1.0000 - accuracy: 1.0000 - loss: 0.0035 - val_AUC: 0.0000e+00 - val_accuracy: 1.0000 - val_loss: 1.7916e-04\n",
      "Epoch 3/100\n",
      "\u001b[1m1/1\u001b[0m \u001b[32m━━━━━━━━━━━━━━━━━━━━\u001b[0m\u001b[37m\u001b[0m \u001b[1m0s\u001b[0m 111ms/step - AUC: 1.0000 - accuracy: 1.0000 - loss: 0.0037 - val_AUC: 0.0000e+00 - val_accuracy: 1.0000 - val_loss: 1.7743e-04\n",
      "Epoch 4/100\n",
      "\u001b[1m1/1\u001b[0m \u001b[32m━━━━━━━━━━━━━━━━━━━━\u001b[0m\u001b[37m\u001b[0m \u001b[1m0s\u001b[0m 154ms/step - AUC: 1.0000 - accuracy: 1.0000 - loss: 0.0014 - val_AUC: 0.0000e+00 - val_accuracy: 1.0000 - val_loss: 1.7584e-04\n",
      "Epoch 5/100\n",
      "\u001b[1m1/1\u001b[0m \u001b[32m━━━━━━━━━━━━━━━━━━━━\u001b[0m\u001b[37m\u001b[0m \u001b[1m0s\u001b[0m 131ms/step - AUC: 1.0000 - accuracy: 1.0000 - loss: 0.0035 - val_AUC: 0.0000e+00 - val_accuracy: 1.0000 - val_loss: 1.7423e-04\n",
      "Epoch 6/100\n",
      "\u001b[1m1/1\u001b[0m \u001b[32m━━━━━━━━━━━━━━━━━━━━\u001b[0m\u001b[37m\u001b[0m \u001b[1m0s\u001b[0m 115ms/step - AUC: 1.0000 - accuracy: 1.0000 - loss: 0.0016 - val_AUC: 0.0000e+00 - val_accuracy: 1.0000 - val_loss: 1.7271e-04\n",
      "Epoch 7/100\n",
      "\u001b[1m1/1\u001b[0m \u001b[32m━━━━━━━━━━━━━━━━━━━━\u001b[0m\u001b[37m\u001b[0m \u001b[1m0s\u001b[0m 111ms/step - AUC: 1.0000 - accuracy: 1.0000 - loss: 0.0037 - val_AUC: 0.0000e+00 - val_accuracy: 1.0000 - val_loss: 1.7116e-04\n",
      "Epoch 8/100\n",
      "\u001b[1m1/1\u001b[0m \u001b[32m━━━━━━━━━━━━━━━━━━━━\u001b[0m\u001b[37m\u001b[0m \u001b[1m0s\u001b[0m 113ms/step - AUC: 1.0000 - accuracy: 1.0000 - loss: 0.0108 - val_AUC: 0.0000e+00 - val_accuracy: 1.0000 - val_loss: 1.6977e-04\n",
      "Epoch 9/100\n",
      "\u001b[1m1/1\u001b[0m \u001b[32m━━━━━━━━━━━━━━━━━━━━\u001b[0m\u001b[37m\u001b[0m \u001b[1m0s\u001b[0m 113ms/step - AUC: 1.0000 - accuracy: 1.0000 - loss: 0.0100 - val_AUC: 0.0000e+00 - val_accuracy: 1.0000 - val_loss: 1.6848e-04\n",
      "Epoch 10/100\n",
      "\u001b[1m1/1\u001b[0m \u001b[32m━━━━━━━━━━━━━━━━━━━━\u001b[0m\u001b[37m\u001b[0m \u001b[1m0s\u001b[0m 132ms/step - AUC: 1.0000 - accuracy: 1.0000 - loss: 0.0039 - val_AUC: 0.0000e+00 - val_accuracy: 1.0000 - val_loss: 1.6701e-04\n",
      "Epoch 11/100\n",
      "\u001b[1m1/1\u001b[0m \u001b[32m━━━━━━━━━━━━━━━━━━━━\u001b[0m\u001b[37m\u001b[0m \u001b[1m0s\u001b[0m 121ms/step - AUC: 1.0000 - accuracy: 1.0000 - loss: 0.0011 - val_AUC: 0.0000e+00 - val_accuracy: 1.0000 - val_loss: 1.6563e-04\n",
      "Epoch 12/100\n",
      "\u001b[1m1/1\u001b[0m \u001b[32m━━━━━━━━━━━━━━━━━━━━\u001b[0m\u001b[37m\u001b[0m \u001b[1m0s\u001b[0m 182ms/step - AUC: 1.0000 - accuracy: 1.0000 - loss: 0.0027 - val_AUC: 0.0000e+00 - val_accuracy: 1.0000 - val_loss: 1.6422e-04\n",
      "Epoch 13/100\n",
      "\u001b[1m1/1\u001b[0m \u001b[32m━━━━━━━━━━━━━━━━━━━━\u001b[0m\u001b[37m\u001b[0m \u001b[1m0s\u001b[0m 145ms/step - AUC: 1.0000 - accuracy: 1.0000 - loss: 0.0062 - val_AUC: 0.0000e+00 - val_accuracy: 1.0000 - val_loss: 1.6268e-04\n",
      "Epoch 14/100\n",
      "\u001b[1m1/1\u001b[0m \u001b[32m━━━━━━━━━━━━━━━━━━━━\u001b[0m\u001b[37m\u001b[0m \u001b[1m0s\u001b[0m 200ms/step - AUC: 1.0000 - accuracy: 1.0000 - loss: 0.0014 - val_AUC: 0.0000e+00 - val_accuracy: 1.0000 - val_loss: 1.6125e-04\n",
      "Epoch 15/100\n",
      "\u001b[1m1/1\u001b[0m \u001b[32m━━━━━━━━━━━━━━━━━━━━\u001b[0m\u001b[37m\u001b[0m \u001b[1m0s\u001b[0m 180ms/step - AUC: 1.0000 - accuracy: 1.0000 - loss: 0.0056 - val_AUC: 0.0000e+00 - val_accuracy: 1.0000 - val_loss: 1.5970e-04\n",
      "Epoch 16/100\n",
      "\u001b[1m1/1\u001b[0m \u001b[32m━━━━━━━━━━━━━━━━━━━━\u001b[0m\u001b[37m\u001b[0m \u001b[1m0s\u001b[0m 175ms/step - AUC: 1.0000 - accuracy: 1.0000 - loss: 0.0021 - val_AUC: 0.0000e+00 - val_accuracy: 1.0000 - val_loss: 1.5818e-04\n",
      "Epoch 17/100\n",
      "\u001b[1m1/1\u001b[0m \u001b[32m━━━━━━━━━━━━━━━━━━━━\u001b[0m\u001b[37m\u001b[0m \u001b[1m0s\u001b[0m 129ms/step - AUC: 1.0000 - accuracy: 1.0000 - loss: 0.0066 - val_AUC: 0.0000e+00 - val_accuracy: 1.0000 - val_loss: 1.5653e-04\n",
      "Epoch 18/100\n",
      "\u001b[1m1/1\u001b[0m \u001b[32m━━━━━━━━━━━━━━━━━━━━\u001b[0m\u001b[37m\u001b[0m \u001b[1m0s\u001b[0m 120ms/step - AUC: 1.0000 - accuracy: 1.0000 - loss: 0.0019 - val_AUC: 0.0000e+00 - val_accuracy: 1.0000 - val_loss: 1.5494e-04\n",
      "Epoch 19/100\n",
      "\u001b[1m1/1\u001b[0m \u001b[32m━━━━━━━━━━━━━━━━━━━━\u001b[0m\u001b[37m\u001b[0m \u001b[1m0s\u001b[0m 113ms/step - AUC: 1.0000 - accuracy: 1.0000 - loss: 0.0035 - val_AUC: 0.0000e+00 - val_accuracy: 1.0000 - val_loss: 1.5332e-04\n",
      "Epoch 20/100\n",
      "\u001b[1m1/1\u001b[0m \u001b[32m━━━━━━━━━━━━━━━━━━━━\u001b[0m\u001b[37m\u001b[0m \u001b[1m0s\u001b[0m 111ms/step - AUC: 1.0000 - accuracy: 1.0000 - loss: 0.0015 - val_AUC: 0.0000e+00 - val_accuracy: 1.0000 - val_loss: 1.5182e-04\n",
      "Epoch 21/100\n",
      "\u001b[1m1/1\u001b[0m \u001b[32m━━━━━━━━━━━━━━━━━━━━\u001b[0m\u001b[37m\u001b[0m \u001b[1m0s\u001b[0m 118ms/step - AUC: 1.0000 - accuracy: 1.0000 - loss: 0.0021 - val_AUC: 0.0000e+00 - val_accuracy: 1.0000 - val_loss: 1.5040e-04\n",
      "Epoch 22/100\n",
      "\u001b[1m1/1\u001b[0m \u001b[32m━━━━━━━━━━━━━━━━━━━━\u001b[0m\u001b[37m\u001b[0m \u001b[1m0s\u001b[0m 199ms/step - AUC: 1.0000 - accuracy: 1.0000 - loss: 0.0014 - val_AUC: 0.0000e+00 - val_accuracy: 1.0000 - val_loss: 1.4907e-04\n",
      "Epoch 23/100\n",
      "\u001b[1m1/1\u001b[0m \u001b[32m━━━━━━━━━━━━━━━━━━━━\u001b[0m\u001b[37m\u001b[0m \u001b[1m0s\u001b[0m 116ms/step - AUC: 1.0000 - accuracy: 1.0000 - loss: 0.0042 - val_AUC: 0.0000e+00 - val_accuracy: 1.0000 - val_loss: 1.4760e-04\n",
      "Epoch 24/100\n",
      "\u001b[1m1/1\u001b[0m \u001b[32m━━━━━━━━━━━━━━━━━━━━\u001b[0m\u001b[37m\u001b[0m \u001b[1m0s\u001b[0m 109ms/step - AUC: 1.0000 - accuracy: 1.0000 - loss: 0.0035 - val_AUC: 0.0000e+00 - val_accuracy: 1.0000 - val_loss: 1.4614e-04\n",
      "Epoch 25/100\n",
      "\u001b[1m1/1\u001b[0m \u001b[32m━━━━━━━━━━━━━━━━━━━━\u001b[0m\u001b[37m\u001b[0m \u001b[1m0s\u001b[0m 122ms/step - AUC: 1.0000 - accuracy: 1.0000 - loss: 0.0061 - val_AUC: 0.0000e+00 - val_accuracy: 1.0000 - val_loss: 1.4451e-04\n",
      "Epoch 26/100\n",
      "\u001b[1m1/1\u001b[0m \u001b[32m━━━━━━━━━━━━━━━━━━━━\u001b[0m\u001b[37m\u001b[0m \u001b[1m0s\u001b[0m 108ms/step - AUC: 1.0000 - accuracy: 1.0000 - loss: 0.0111 - val_AUC: 0.0000e+00 - val_accuracy: 1.0000 - val_loss: 1.4274e-04\n",
      "Epoch 27/100\n",
      "\u001b[1m1/1\u001b[0m \u001b[32m━━━━━━━━━━━━━━━━━━━━\u001b[0m\u001b[37m\u001b[0m \u001b[1m0s\u001b[0m 127ms/step - AUC: 1.0000 - accuracy: 1.0000 - loss: 0.0025 - val_AUC: 0.0000e+00 - val_accuracy: 1.0000 - val_loss: 1.4105e-04\n",
      "Epoch 28/100\n",
      "\u001b[1m1/1\u001b[0m \u001b[32m━━━━━━━━━━━━━━━━━━━━\u001b[0m\u001b[37m\u001b[0m \u001b[1m0s\u001b[0m 128ms/step - AUC: 1.0000 - accuracy: 1.0000 - loss: 0.0030 - val_AUC: 0.0000e+00 - val_accuracy: 1.0000 - val_loss: 1.3942e-04\n",
      "Epoch 29/100\n",
      "\u001b[1m1/1\u001b[0m \u001b[32m━━━━━━━━━━━━━━━━━━━━\u001b[0m\u001b[37m\u001b[0m \u001b[1m0s\u001b[0m 137ms/step - AUC: 1.0000 - accuracy: 1.0000 - loss: 0.0016 - val_AUC: 0.0000e+00 - val_accuracy: 1.0000 - val_loss: 1.3787e-04\n",
      "Epoch 30/100\n",
      "\u001b[1m1/1\u001b[0m \u001b[32m━━━━━━━━━━━━━━━━━━━━\u001b[0m\u001b[37m\u001b[0m \u001b[1m0s\u001b[0m 140ms/step - AUC: 1.0000 - accuracy: 1.0000 - loss: 0.0055 - val_AUC: 0.0000e+00 - val_accuracy: 1.0000 - val_loss: 1.3636e-04\n",
      "Epoch 31/100\n",
      "\u001b[1m1/1\u001b[0m \u001b[32m━━━━━━━━━━━━━━━━━━━━\u001b[0m\u001b[37m\u001b[0m \u001b[1m0s\u001b[0m 147ms/step - AUC: 1.0000 - accuracy: 1.0000 - loss: 0.0026 - val_AUC: 0.0000e+00 - val_accuracy: 1.0000 - val_loss: 1.3493e-04\n",
      "Epoch 32/100\n",
      "\u001b[1m1/1\u001b[0m \u001b[32m━━━━━━━━━━━━━━━━━━━━\u001b[0m\u001b[37m\u001b[0m \u001b[1m0s\u001b[0m 154ms/step - AUC: 1.0000 - accuracy: 1.0000 - loss: 0.0034 - val_AUC: 0.0000e+00 - val_accuracy: 1.0000 - val_loss: 1.3356e-04\n",
      "Epoch 33/100\n",
      "\u001b[1m1/1\u001b[0m \u001b[32m━━━━━━━━━━━━━━━━━━━━\u001b[0m\u001b[37m\u001b[0m \u001b[1m0s\u001b[0m 122ms/step - AUC: 1.0000 - accuracy: 1.0000 - loss: 0.0028 - val_AUC: 0.0000e+00 - val_accuracy: 1.0000 - val_loss: 1.3226e-04\n",
      "Epoch 34/100\n",
      "\u001b[1m1/1\u001b[0m \u001b[32m━━━━━━━━━━━━━━━━━━━━\u001b[0m\u001b[37m\u001b[0m \u001b[1m0s\u001b[0m 183ms/step - AUC: 1.0000 - accuracy: 1.0000 - loss: 0.0030 - val_AUC: 0.0000e+00 - val_accuracy: 1.0000 - val_loss: 1.3095e-04\n",
      "Epoch 35/100\n",
      "\u001b[1m1/1\u001b[0m \u001b[32m━━━━━━━━━━━━━━━━━━━━\u001b[0m\u001b[37m\u001b[0m \u001b[1m0s\u001b[0m 278ms/step - AUC: 1.0000 - accuracy: 1.0000 - loss: 0.0030 - val_AUC: 0.0000e+00 - val_accuracy: 1.0000 - val_loss: 1.2972e-04\n",
      "Epoch 36/100\n",
      "\u001b[1m1/1\u001b[0m \u001b[32m━━━━━━━━━━━━━━━━━━━━\u001b[0m\u001b[37m\u001b[0m \u001b[1m0s\u001b[0m 130ms/step - AUC: 1.0000 - accuracy: 1.0000 - loss: 0.0018 - val_AUC: 0.0000e+00 - val_accuracy: 1.0000 - val_loss: 1.2855e-04\n",
      "Epoch 37/100\n",
      "\u001b[1m1/1\u001b[0m \u001b[32m━━━━━━━━━━━━━━━━━━━━\u001b[0m\u001b[37m\u001b[0m \u001b[1m0s\u001b[0m 150ms/step - AUC: 1.0000 - accuracy: 1.0000 - loss: 0.0049 - val_AUC: 0.0000e+00 - val_accuracy: 1.0000 - val_loss: 1.2726e-04\n",
      "Epoch 38/100\n",
      "\u001b[1m1/1\u001b[0m \u001b[32m━━━━━━━━━━━━━━━━━━━━\u001b[0m\u001b[37m\u001b[0m \u001b[1m0s\u001b[0m 128ms/step - AUC: 1.0000 - accuracy: 1.0000 - loss: 0.0089 - val_AUC: 0.0000e+00 - val_accuracy: 1.0000 - val_loss: 1.2581e-04\n",
      "Epoch 39/100\n",
      "\u001b[1m1/1\u001b[0m \u001b[32m━━━━━━━━━━━━━━━━━━━━\u001b[0m\u001b[37m\u001b[0m \u001b[1m0s\u001b[0m 147ms/step - AUC: 1.0000 - accuracy: 1.0000 - loss: 0.0047 - val_AUC: 0.0000e+00 - val_accuracy: 1.0000 - val_loss: 1.2447e-04\n",
      "Epoch 40/100\n",
      "\u001b[1m1/1\u001b[0m \u001b[32m━━━━━━━━━━━━━━━━━━━━\u001b[0m\u001b[37m\u001b[0m \u001b[1m0s\u001b[0m 122ms/step - AUC: 1.0000 - accuracy: 1.0000 - loss: 0.0017 - val_AUC: 0.0000e+00 - val_accuracy: 1.0000 - val_loss: 1.2320e-04\n",
      "Epoch 41/100\n",
      "\u001b[1m1/1\u001b[0m \u001b[32m━━━━━━━━━━━━━━━━━━━━\u001b[0m\u001b[37m\u001b[0m \u001b[1m0s\u001b[0m 119ms/step - AUC: 1.0000 - accuracy: 1.0000 - loss: 0.0012 - val_AUC: 0.0000e+00 - val_accuracy: 1.0000 - val_loss: 1.2202e-04\n",
      "Epoch 42/100\n",
      "\u001b[1m1/1\u001b[0m \u001b[32m━━━━━━━━━━━━━━━━━━━━\u001b[0m\u001b[37m\u001b[0m \u001b[1m0s\u001b[0m 117ms/step - AUC: 1.0000 - accuracy: 1.0000 - loss: 0.0018 - val_AUC: 0.0000e+00 - val_accuracy: 1.0000 - val_loss: 1.2088e-04\n",
      "Epoch 43/100\n",
      "\u001b[1m1/1\u001b[0m \u001b[32m━━━━━━━━━━━━━━━━━━━━\u001b[0m\u001b[37m\u001b[0m \u001b[1m0s\u001b[0m 166ms/step - AUC: 1.0000 - accuracy: 1.0000 - loss: 0.0021 - val_AUC: 0.0000e+00 - val_accuracy: 1.0000 - val_loss: 1.1976e-04\n",
      "Epoch 44/100\n",
      "\u001b[1m1/1\u001b[0m \u001b[32m━━━━━━━━━━━━━━━━━━━━\u001b[0m\u001b[37m\u001b[0m \u001b[1m0s\u001b[0m 131ms/step - AUC: 1.0000 - accuracy: 1.0000 - loss: 0.0016 - val_AUC: 0.0000e+00 - val_accuracy: 1.0000 - val_loss: 1.1871e-04\n",
      "Epoch 45/100\n",
      "\u001b[1m1/1\u001b[0m \u001b[32m━━━━━━━━━━━━━━━━━━━━\u001b[0m\u001b[37m\u001b[0m \u001b[1m0s\u001b[0m 140ms/step - AUC: 1.0000 - accuracy: 1.0000 - loss: 0.0028 - val_AUC: 0.0000e+00 - val_accuracy: 1.0000 - val_loss: 1.1767e-04\n",
      "Epoch 46/100\n",
      "\u001b[1m1/1\u001b[0m \u001b[32m━━━━━━━━━━━━━━━━━━━━\u001b[0m\u001b[37m\u001b[0m \u001b[1m0s\u001b[0m 127ms/step - AUC: 1.0000 - accuracy: 1.0000 - loss: 0.0100 - val_AUC: 0.0000e+00 - val_accuracy: 1.0000 - val_loss: 1.1663e-04\n",
      "Epoch 47/100\n",
      "\u001b[1m1/1\u001b[0m \u001b[32m━━━━━━━━━━━━━━━━━━━━\u001b[0m\u001b[37m\u001b[0m \u001b[1m0s\u001b[0m 128ms/step - AUC: 1.0000 - accuracy: 1.0000 - loss: 0.0015 - val_AUC: 0.0000e+00 - val_accuracy: 1.0000 - val_loss: 1.1565e-04\n",
      "Epoch 48/100\n",
      "\u001b[1m1/1\u001b[0m \u001b[32m━━━━━━━━━━━━━━━━━━━━\u001b[0m\u001b[37m\u001b[0m \u001b[1m0s\u001b[0m 130ms/step - AUC: 1.0000 - accuracy: 1.0000 - loss: 0.0041 - val_AUC: 0.0000e+00 - val_accuracy: 1.0000 - val_loss: 1.1467e-04\n",
      "Epoch 49/100\n",
      "\u001b[1m1/1\u001b[0m \u001b[32m━━━━━━━━━━━━━━━━━━━━\u001b[0m\u001b[37m\u001b[0m \u001b[1m0s\u001b[0m 145ms/step - AUC: 1.0000 - accuracy: 1.0000 - loss: 0.0030 - val_AUC: 0.0000e+00 - val_accuracy: 1.0000 - val_loss: 1.1366e-04\n",
      "Epoch 50/100\n",
      "\u001b[1m1/1\u001b[0m \u001b[32m━━━━━━━━━━━━━━━━━━━━\u001b[0m\u001b[37m\u001b[0m \u001b[1m0s\u001b[0m 142ms/step - AUC: 1.0000 - accuracy: 1.0000 - loss: 0.0027 - val_AUC: 0.0000e+00 - val_accuracy: 1.0000 - val_loss: 1.1271e-04\n",
      "Epoch 51/100\n",
      "\u001b[1m1/1\u001b[0m \u001b[32m━━━━━━━━━━━━━━━━━━━━\u001b[0m\u001b[37m\u001b[0m \u001b[1m0s\u001b[0m 127ms/step - AUC: 1.0000 - accuracy: 1.0000 - loss: 0.0022 - val_AUC: 0.0000e+00 - val_accuracy: 1.0000 - val_loss: 1.1182e-04\n",
      "Epoch 52/100\n",
      "\u001b[1m1/1\u001b[0m \u001b[32m━━━━━━━━━━━━━━━━━━━━\u001b[0m\u001b[37m\u001b[0m \u001b[1m0s\u001b[0m 113ms/step - AUC: 1.0000 - accuracy: 1.0000 - loss: 0.0016 - val_AUC: 0.0000e+00 - val_accuracy: 1.0000 - val_loss: 1.1097e-04\n",
      "Epoch 53/100\n",
      "\u001b[1m1/1\u001b[0m \u001b[32m━━━━━━━━━━━━━━━━━━━━\u001b[0m\u001b[37m\u001b[0m \u001b[1m0s\u001b[0m 207ms/step - AUC: 1.0000 - accuracy: 1.0000 - loss: 0.0013 - val_AUC: 0.0000e+00 - val_accuracy: 1.0000 - val_loss: 1.1015e-04\n",
      "Epoch 54/100\n",
      "\u001b[1m1/1\u001b[0m \u001b[32m━━━━━━━━━━━━━━━━━━━━\u001b[0m\u001b[37m\u001b[0m \u001b[1m0s\u001b[0m 115ms/step - AUC: 1.0000 - accuracy: 1.0000 - loss: 0.0012 - val_AUC: 0.0000e+00 - val_accuracy: 1.0000 - val_loss: 1.0941e-04\n",
      "Epoch 55/100\n",
      "\u001b[1m1/1\u001b[0m \u001b[32m━━━━━━━━━━━━━━━━━━━━\u001b[0m\u001b[37m\u001b[0m \u001b[1m0s\u001b[0m 117ms/step - AUC: 1.0000 - accuracy: 1.0000 - loss: 0.0017 - val_AUC: 0.0000e+00 - val_accuracy: 1.0000 - val_loss: 1.0868e-04\n",
      "Epoch 56/100\n",
      "\u001b[1m1/1\u001b[0m \u001b[32m━━━━━━━━━━━━━━━━━━━━\u001b[0m\u001b[37m\u001b[0m \u001b[1m0s\u001b[0m 157ms/step - AUC: 1.0000 - accuracy: 1.0000 - loss: 0.0044 - val_AUC: 0.0000e+00 - val_accuracy: 1.0000 - val_loss: 1.0786e-04\n",
      "Epoch 57/100\n",
      "\u001b[1m1/1\u001b[0m \u001b[32m━━━━━━━━━━━━━━━━━━━━\u001b[0m\u001b[37m\u001b[0m \u001b[1m0s\u001b[0m 115ms/step - AUC: 1.0000 - accuracy: 1.0000 - loss: 0.0028 - val_AUC: 0.0000e+00 - val_accuracy: 1.0000 - val_loss: 1.0701e-04\n",
      "Epoch 58/100\n",
      "\u001b[1m1/1\u001b[0m \u001b[32m━━━━━━━━━━━━━━━━━━━━\u001b[0m\u001b[37m\u001b[0m \u001b[1m0s\u001b[0m 123ms/step - AUC: 1.0000 - accuracy: 1.0000 - loss: 0.0023 - val_AUC: 0.0000e+00 - val_accuracy: 1.0000 - val_loss: 1.0615e-04\n",
      "Epoch 59/100\n",
      "\u001b[1m1/1\u001b[0m \u001b[32m━━━━━━━━━━━━━━━━━━━━\u001b[0m\u001b[37m\u001b[0m \u001b[1m0s\u001b[0m 111ms/step - AUC: 1.0000 - accuracy: 1.0000 - loss: 0.0052 - val_AUC: 0.0000e+00 - val_accuracy: 1.0000 - val_loss: 1.0532e-04\n",
      "Epoch 60/100\n",
      "\u001b[1m1/1\u001b[0m \u001b[32m━━━━━━━━━━━━━━━━━━━━\u001b[0m\u001b[37m\u001b[0m \u001b[1m0s\u001b[0m 115ms/step - AUC: 1.0000 - accuracy: 1.0000 - loss: 0.0019 - val_AUC: 0.0000e+00 - val_accuracy: 1.0000 - val_loss: 1.0450e-04\n",
      "Epoch 61/100\n",
      "\u001b[1m1/1\u001b[0m \u001b[32m━━━━━━━━━━━━━━━━━━━━\u001b[0m\u001b[37m\u001b[0m \u001b[1m0s\u001b[0m 117ms/step - AUC: 1.0000 - accuracy: 1.0000 - loss: 0.0099 - val_AUC: 0.0000e+00 - val_accuracy: 1.0000 - val_loss: 1.0343e-04\n",
      "Epoch 62/100\n",
      "\u001b[1m1/1\u001b[0m \u001b[32m━━━━━━━━━━━━━━━━━━━━\u001b[0m\u001b[37m\u001b[0m \u001b[1m0s\u001b[0m 113ms/step - AUC: 1.0000 - accuracy: 1.0000 - loss: 0.0054 - val_AUC: 0.0000e+00 - val_accuracy: 1.0000 - val_loss: 1.0231e-04\n",
      "Epoch 63/100\n",
      "\u001b[1m1/1\u001b[0m \u001b[32m━━━━━━━━━━━━━━━━━━━━\u001b[0m\u001b[37m\u001b[0m \u001b[1m0s\u001b[0m 115ms/step - AUC: 1.0000 - accuracy: 1.0000 - loss: 0.0013 - val_AUC: 0.0000e+00 - val_accuracy: 1.0000 - val_loss: 1.0128e-04\n",
      "Epoch 64/100\n",
      "\u001b[1m1/1\u001b[0m \u001b[32m━━━━━━━━━━━━━━━━━━━━\u001b[0m\u001b[37m\u001b[0m \u001b[1m0s\u001b[0m 142ms/step - AUC: 1.0000 - accuracy: 1.0000 - loss: 0.0034 - val_AUC: 0.0000e+00 - val_accuracy: 1.0000 - val_loss: 1.0020e-04\n",
      "Epoch 65/100\n",
      "\u001b[1m1/1\u001b[0m \u001b[32m━━━━━━━━━━━━━━━━━━━━\u001b[0m\u001b[37m\u001b[0m \u001b[1m0s\u001b[0m 115ms/step - AUC: 1.0000 - accuracy: 1.0000 - loss: 0.0028 - val_AUC: 0.0000e+00 - val_accuracy: 1.0000 - val_loss: 9.9164e-05\n",
      "Epoch 66/100\n",
      "\u001b[1m1/1\u001b[0m \u001b[32m━━━━━━━━━━━━━━━━━━━━\u001b[0m\u001b[37m\u001b[0m \u001b[1m0s\u001b[0m 166ms/step - AUC: 1.0000 - accuracy: 1.0000 - loss: 6.3813e-04 - val_AUC: 0.0000e+00 - val_accuracy: 1.0000 - val_loss: 9.8206e-05\n",
      "Epoch 67/100\n",
      "\u001b[1m1/1\u001b[0m \u001b[32m━━━━━━━━━━━━━━━━━━━━\u001b[0m\u001b[37m\u001b[0m \u001b[1m0s\u001b[0m 114ms/step - AUC: 1.0000 - accuracy: 1.0000 - loss: 0.0046 - val_AUC: 0.0000e+00 - val_accuracy: 1.0000 - val_loss: 9.7209e-05\n",
      "Epoch 68/100\n",
      "\u001b[1m1/1\u001b[0m \u001b[32m━━━━━━━━━━━━━━━━━━━━\u001b[0m\u001b[37m\u001b[0m \u001b[1m0s\u001b[0m 117ms/step - AUC: 1.0000 - accuracy: 1.0000 - loss: 0.0086 - val_AUC: 0.0000e+00 - val_accuracy: 1.0000 - val_loss: 9.6285e-05\n",
      "Epoch 69/100\n",
      "\u001b[1m1/1\u001b[0m \u001b[32m━━━━━━━━━━━━━━━━━━━━\u001b[0m\u001b[37m\u001b[0m \u001b[1m0s\u001b[0m 117ms/step - AUC: 1.0000 - accuracy: 1.0000 - loss: 0.0014 - val_AUC: 0.0000e+00 - val_accuracy: 1.0000 - val_loss: 9.5439e-05\n",
      "Epoch 70/100\n",
      "\u001b[1m1/1\u001b[0m \u001b[32m━━━━━━━━━━━━━━━━━━━━\u001b[0m\u001b[37m\u001b[0m \u001b[1m0s\u001b[0m 163ms/step - AUC: 1.0000 - accuracy: 1.0000 - loss: 0.0066 - val_AUC: 0.0000e+00 - val_accuracy: 1.0000 - val_loss: 9.4595e-05\n",
      "Epoch 71/100\n",
      "\u001b[1m1/1\u001b[0m \u001b[32m━━━━━━━━━━━━━━━━━━━━\u001b[0m\u001b[37m\u001b[0m \u001b[1m0s\u001b[0m 167ms/step - AUC: 1.0000 - accuracy: 1.0000 - loss: 0.0041 - val_AUC: 0.0000e+00 - val_accuracy: 1.0000 - val_loss: 9.3750e-05\n",
      "Epoch 72/100\n",
      "\u001b[1m1/1\u001b[0m \u001b[32m━━━━━━━━━━━━━━━━━━━━\u001b[0m\u001b[37m\u001b[0m \u001b[1m0s\u001b[0m 116ms/step - AUC: 1.0000 - accuracy: 1.0000 - loss: 0.0034 - val_AUC: 0.0000e+00 - val_accuracy: 1.0000 - val_loss: 9.2972e-05\n",
      "Epoch 73/100\n",
      "\u001b[1m1/1\u001b[0m \u001b[32m━━━━━━━━━━━━━━━━━━━━\u001b[0m\u001b[37m\u001b[0m \u001b[1m0s\u001b[0m 114ms/step - AUC: 1.0000 - accuracy: 1.0000 - loss: 0.0011 - val_AUC: 0.0000e+00 - val_accuracy: 1.0000 - val_loss: 9.2256e-05\n",
      "Epoch 74/100\n",
      "\u001b[1m1/1\u001b[0m \u001b[32m━━━━━━━━━━━━━━━━━━━━\u001b[0m\u001b[37m\u001b[0m \u001b[1m0s\u001b[0m 114ms/step - AUC: 1.0000 - accuracy: 1.0000 - loss: 0.0055 - val_AUC: 0.0000e+00 - val_accuracy: 1.0000 - val_loss: 9.1453e-05\n",
      "Epoch 75/100\n",
      "\u001b[1m1/1\u001b[0m \u001b[32m━━━━━━━━━━━━━━━━━━━━\u001b[0m\u001b[37m\u001b[0m \u001b[1m0s\u001b[0m 114ms/step - AUC: 1.0000 - accuracy: 1.0000 - loss: 0.0093 - val_AUC: 0.0000e+00 - val_accuracy: 1.0000 - val_loss: 9.0477e-05\n",
      "Epoch 76/100\n",
      "\u001b[1m1/1\u001b[0m \u001b[32m━━━━━━━━━━━━━━━━━━━━\u001b[0m\u001b[37m\u001b[0m \u001b[1m0s\u001b[0m 111ms/step - AUC: 1.0000 - accuracy: 1.0000 - loss: 0.0014 - val_AUC: 0.0000e+00 - val_accuracy: 1.0000 - val_loss: 8.9574e-05\n",
      "Epoch 77/100\n",
      "\u001b[1m1/1\u001b[0m \u001b[32m━━━━━━━━━━━━━━━━━━━━\u001b[0m\u001b[37m\u001b[0m \u001b[1m0s\u001b[0m 131ms/step - AUC: 1.0000 - accuracy: 1.0000 - loss: 0.0023 - val_AUC: 0.0000e+00 - val_accuracy: 1.0000 - val_loss: 8.8716e-05\n",
      "Epoch 78/100\n",
      "\u001b[1m1/1\u001b[0m \u001b[32m━━━━━━━━━━━━━━━━━━━━\u001b[0m\u001b[37m\u001b[0m \u001b[1m0s\u001b[0m 116ms/step - AUC: 1.0000 - accuracy: 1.0000 - loss: 0.0029 - val_AUC: 0.0000e+00 - val_accuracy: 1.0000 - val_loss: 8.7893e-05\n",
      "Epoch 79/100\n",
      "\u001b[1m1/1\u001b[0m \u001b[32m━━━━━━━━━━━━━━━━━━━━\u001b[0m\u001b[37m\u001b[0m \u001b[1m0s\u001b[0m 116ms/step - AUC: 1.0000 - accuracy: 1.0000 - loss: 0.0055 - val_AUC: 0.0000e+00 - val_accuracy: 1.0000 - val_loss: 8.6933e-05\n",
      "Epoch 80/100\n",
      "\u001b[1m1/1\u001b[0m \u001b[32m━━━━━━━━━━━━━━━━━━━━\u001b[0m\u001b[37m\u001b[0m \u001b[1m0s\u001b[0m 109ms/step - AUC: 1.0000 - accuracy: 1.0000 - loss: 0.0015 - val_AUC: 0.0000e+00 - val_accuracy: 1.0000 - val_loss: 8.6034e-05\n",
      "Epoch 81/100\n",
      "\u001b[1m1/1\u001b[0m \u001b[32m━━━━━━━━━━━━━━━━━━━━\u001b[0m\u001b[37m\u001b[0m \u001b[1m0s\u001b[0m 116ms/step - AUC: 1.0000 - accuracy: 1.0000 - loss: 0.0032 - val_AUC: 0.0000e+00 - val_accuracy: 1.0000 - val_loss: 8.5126e-05\n",
      "Epoch 82/100\n",
      "\u001b[1m1/1\u001b[0m \u001b[32m━━━━━━━━━━━━━━━━━━━━\u001b[0m\u001b[37m\u001b[0m \u001b[1m0s\u001b[0m 164ms/step - AUC: 1.0000 - accuracy: 1.0000 - loss: 0.0012 - val_AUC: 0.0000e+00 - val_accuracy: 1.0000 - val_loss: 8.4290e-05\n",
      "Epoch 83/100\n",
      "\u001b[1m1/1\u001b[0m \u001b[32m━━━━━━━━━━━━━━━━━━━━\u001b[0m\u001b[37m\u001b[0m \u001b[1m0s\u001b[0m 123ms/step - AUC: 1.0000 - accuracy: 1.0000 - loss: 0.0057 - val_AUC: 0.0000e+00 - val_accuracy: 1.0000 - val_loss: 8.3419e-05\n",
      "Epoch 84/100\n",
      "\u001b[1m1/1\u001b[0m \u001b[32m━━━━━━━━━━━━━━━━━━━━\u001b[0m\u001b[37m\u001b[0m \u001b[1m0s\u001b[0m 120ms/step - AUC: 1.0000 - accuracy: 1.0000 - loss: 0.0035 - val_AUC: 0.0000e+00 - val_accuracy: 1.0000 - val_loss: 8.2523e-05\n",
      "Epoch 85/100\n",
      "\u001b[1m1/1\u001b[0m \u001b[32m━━━━━━━━━━━━━━━━━━━━\u001b[0m\u001b[37m\u001b[0m \u001b[1m0s\u001b[0m 121ms/step - AUC: 1.0000 - accuracy: 1.0000 - loss: 0.0023 - val_AUC: 0.0000e+00 - val_accuracy: 1.0000 - val_loss: 8.1668e-05\n",
      "Epoch 86/100\n",
      "\u001b[1m1/1\u001b[0m \u001b[32m━━━━━━━━━━━━━━━━━━━━\u001b[0m\u001b[37m\u001b[0m \u001b[1m0s\u001b[0m 139ms/step - AUC: 1.0000 - accuracy: 1.0000 - loss: 0.0040 - val_AUC: 0.0000e+00 - val_accuracy: 1.0000 - val_loss: 8.0822e-05\n",
      "Epoch 87/100\n",
      "\u001b[1m1/1\u001b[0m \u001b[32m━━━━━━━━━━━━━━━━━━━━\u001b[0m\u001b[37m\u001b[0m \u001b[1m0s\u001b[0m 118ms/step - AUC: 1.0000 - accuracy: 1.0000 - loss: 0.0022 - val_AUC: 0.0000e+00 - val_accuracy: 1.0000 - val_loss: 8.0013e-05\n",
      "Epoch 88/100\n",
      "\u001b[1m1/1\u001b[0m \u001b[32m━━━━━━━━━━━━━━━━━━━━\u001b[0m\u001b[37m\u001b[0m \u001b[1m0s\u001b[0m 163ms/step - AUC: 1.0000 - accuracy: 1.0000 - loss: 0.0016 - val_AUC: 0.0000e+00 - val_accuracy: 1.0000 - val_loss: 7.9231e-05\n",
      "Epoch 89/100\n",
      "\u001b[1m1/1\u001b[0m \u001b[32m━━━━━━━━━━━━━━━━━━━━\u001b[0m\u001b[37m\u001b[0m \u001b[1m0s\u001b[0m 111ms/step - AUC: 1.0000 - accuracy: 1.0000 - loss: 5.8557e-04 - val_AUC: 0.0000e+00 - val_accuracy: 1.0000 - val_loss: 7.8510e-05\n",
      "Epoch 90/100\n",
      "\u001b[1m1/1\u001b[0m \u001b[32m━━━━━━━━━━━━━━━━━━━━\u001b[0m\u001b[37m\u001b[0m \u001b[1m0s\u001b[0m 116ms/step - AUC: 1.0000 - accuracy: 1.0000 - loss: 0.0022 - val_AUC: 0.0000e+00 - val_accuracy: 1.0000 - val_loss: 7.7838e-05\n",
      "Epoch 91/100\n",
      "\u001b[1m1/1\u001b[0m \u001b[32m━━━━━━━━━━━━━━━━━━━━\u001b[0m\u001b[37m\u001b[0m \u001b[1m0s\u001b[0m 121ms/step - AUC: 1.0000 - accuracy: 1.0000 - loss: 0.0030 - val_AUC: 0.0000e+00 - val_accuracy: 1.0000 - val_loss: 7.7167e-05\n",
      "Epoch 92/100\n",
      "\u001b[1m1/1\u001b[0m \u001b[32m━━━━━━━━━━━━━━━━━━━━\u001b[0m\u001b[37m\u001b[0m \u001b[1m0s\u001b[0m 109ms/step - AUC: 1.0000 - accuracy: 1.0000 - loss: 7.4817e-04 - val_AUC: 0.0000e+00 - val_accuracy: 1.0000 - val_loss: 7.6546e-05\n",
      "Epoch 93/100\n",
      "\u001b[1m1/1\u001b[0m \u001b[32m━━━━━━━━━━━━━━━━━━━━\u001b[0m\u001b[37m\u001b[0m \u001b[1m0s\u001b[0m 113ms/step - AUC: 1.0000 - accuracy: 1.0000 - loss: 0.0037 - val_AUC: 0.0000e+00 - val_accuracy: 1.0000 - val_loss: 7.5899e-05\n",
      "Epoch 94/100\n",
      "\u001b[1m1/1\u001b[0m \u001b[32m━━━━━━━━━━━━━━━━━━━━\u001b[0m\u001b[37m\u001b[0m \u001b[1m0s\u001b[0m 133ms/step - AUC: 1.0000 - accuracy: 1.0000 - loss: 0.0087 - val_AUC: 0.0000e+00 - val_accuracy: 1.0000 - val_loss: 7.5172e-05\n",
      "Epoch 95/100\n",
      "\u001b[1m1/1\u001b[0m \u001b[32m━━━━━━━━━━━━━━━━━━━━\u001b[0m\u001b[37m\u001b[0m \u001b[1m0s\u001b[0m 124ms/step - AUC: 1.0000 - accuracy: 1.0000 - loss: 0.0012 - val_AUC: 0.0000e+00 - val_accuracy: 1.0000 - val_loss: 7.4494e-05\n",
      "Epoch 96/100\n",
      "\u001b[1m1/1\u001b[0m \u001b[32m━━━━━━━━━━━━━━━━━━━━\u001b[0m\u001b[37m\u001b[0m \u001b[1m0s\u001b[0m 171ms/step - AUC: 1.0000 - accuracy: 1.0000 - loss: 0.0022 - val_AUC: 0.0000e+00 - val_accuracy: 1.0000 - val_loss: 7.3790e-05\n",
      "Epoch 97/100\n",
      "\u001b[1m1/1\u001b[0m \u001b[32m━━━━━━━━━━━━━━━━━━━━\u001b[0m\u001b[37m\u001b[0m \u001b[1m0s\u001b[0m 131ms/step - AUC: 1.0000 - accuracy: 1.0000 - loss: 9.1539e-04 - val_AUC: 0.0000e+00 - val_accuracy: 1.0000 - val_loss: 7.3141e-05\n",
      "Epoch 98/100\n",
      "\u001b[1m1/1\u001b[0m \u001b[32m━━━━━━━━━━━━━━━━━━━━\u001b[0m\u001b[37m\u001b[0m \u001b[1m0s\u001b[0m 143ms/step - AUC: 1.0000 - accuracy: 1.0000 - loss: 0.0096 - val_AUC: 0.0000e+00 - val_accuracy: 1.0000 - val_loss: 7.2424e-05\n",
      "Epoch 99/100\n",
      "\u001b[1m1/1\u001b[0m \u001b[32m━━━━━━━━━━━━━━━━━━━━\u001b[0m\u001b[37m\u001b[0m \u001b[1m0s\u001b[0m 119ms/step - AUC: 1.0000 - accuracy: 1.0000 - loss: 8.0112e-04 - val_AUC: 0.0000e+00 - val_accuracy: 1.0000 - val_loss: 7.1764e-05\n",
      "Epoch 100/100\n",
      "\u001b[1m1/1\u001b[0m \u001b[32m━━━━━━━━━━━━━━━━━━━━\u001b[0m\u001b[37m\u001b[0m \u001b[1m0s\u001b[0m 112ms/step - AUC: 1.0000 - accuracy: 1.0000 - loss: 0.0052 - val_AUC: 0.0000e+00 - val_accuracy: 1.0000 - val_loss: 7.1051e-05\n",
      "Test Acc: 1.0 AUC: 0.0\n",
      "\u001b[1m1/1\u001b[0m \u001b[32m━━━━━━━━━━━━━━━━━━━━\u001b[0m\u001b[37m\u001b[0m \u001b[1m0s\u001b[0m 48ms/step\n",
      "[[2]]\n",
      "              precision    recall  f1-score   support\n",
      "\n",
      "           0      1.000     1.000     1.000         2\n",
      "\n",
      "    accuracy                          1.000         2\n",
      "   macro avg      1.000     1.000     1.000         2\n",
      "weighted avg      1.000     1.000     1.000         2\n",
      "\n"
     ]
    },
    {
     "name": "stderr",
     "output_type": "stream",
     "text": [
      "d:\\Machine_Learning\\venv\\lib\\site-packages\\sklearn\\metrics\\_classification.py:534: UserWarning: A single label was found in 'y_true' and 'y_pred'. For the confusion matrix to have the correct shape, use the 'labels' parameter to pass all known labels.\n",
      "  warnings.warn(\n"
     ]
    }
   ],
   "source": [
    "es = keras.callbacks.EarlyStopping(\n",
    "    monitor=\"val_loss\", patience=10, restore_best_weights=True\n",
    ")\n",
    "\n",
    "history = model.fit(\n",
    "    X_train, y_train,\n",
    "    validation_data=(X_val, y_val),\n",
    "    epochs=100, batch_size=32,\n",
    "    callbacks=[es], verbose=1\n",
    ")\n",
    "from sklearn.metrics import classification_report, confusion_matrix\n",
    "\n",
    "loss, acc, auc = model.evaluate(X_test, y_test, verbose=0)\n",
    "print(\"Test Acc:\", acc, \"AUC:\", auc)\n",
    "\n",
    "y_proba = model.predict(X_test).ravel()\n",
    "y_pred = (y_proba >= 0.5).astype(int)\n",
    "\n",
    "print(confusion_matrix(y_test, y_pred))\n",
    "print(classification_report(y_test, y_pred, digits=3))"
   ]
  },
  {
   "cell_type": "code",
   "execution_count": 6,
   "id": "55e72954",
   "metadata": {},
   "outputs": [
    {
     "name": "stdout",
     "output_type": "stream",
     "text": [
      "Test Acc: 1.0 AUC: 0.0\n",
      "\u001b[1m1/1\u001b[0m \u001b[32m━━━━━━━━━━━━━━━━━━━━\u001b[0m\u001b[37m\u001b[0m \u001b[1m0s\u001b[0m 67ms/step\n",
      "[[2]]\n",
      "              precision    recall  f1-score   support\n",
      "\n",
      "           0      1.000     1.000     1.000         2\n",
      "\n",
      "    accuracy                          1.000         2\n",
      "   macro avg      1.000     1.000     1.000         2\n",
      "weighted avg      1.000     1.000     1.000         2\n",
      "\n"
     ]
    },
    {
     "name": "stderr",
     "output_type": "stream",
     "text": [
      "d:\\Machine_Learning\\venv\\lib\\site-packages\\sklearn\\metrics\\_classification.py:534: UserWarning: A single label was found in 'y_true' and 'y_pred'. For the confusion matrix to have the correct shape, use the 'labels' parameter to pass all known labels.\n",
      "  warnings.warn(\n"
     ]
    }
   ],
   "source": [
    "from sklearn.metrics import classification_report, confusion_matrix\n",
    "\n",
    "loss, acc, auc = model.evaluate(X_test, y_test, verbose=0)\n",
    "print(\"Test Acc:\", acc, \"AUC:\", auc)\n",
    "\n",
    "y_proba = model.predict(X_test).ravel()\n",
    "y_pred = (y_proba >= 0.5).astype(int)\n",
    "\n",
    "print(confusion_matrix(y_test, y_pred))\n",
    "print(classification_report(y_test, y_pred, digits=3))"
   ]
  },
  {
   "cell_type": "code",
   "execution_count": 7,
   "id": "e1c5d004",
   "metadata": {},
   "outputs": [
    {
     "data": {
      "image/png": "[encoded data removed]",
      "text/plain": [
       "<Figure size 640x480 with 1 Axes>"
      ]
     },
     "metadata": {},
     "output_type": "display_data"
    }
   ],
   "source": [
    "import matplotlib.pyplot as plt\n",
    "\n",
    "plt.plot(history.history[\"loss\"], label=\"Train Loss\")\n",
    "plt.plot(history.history[\"val_loss\"], label=\"Val Loss\")\n",
    "plt.xlabel(\"Epoch\"); plt.ylabel(\"Loss\"); plt.legend()\n",
    "plt.title(\"Learning Curve\")\n",
    "plt.tight_layout(); plt.savefig(\"learning_curve.png\", dpi=120)"
   ]
  }
 ],
 "metadata": {
  "kernelspec": {
   "display_name": "venv",
   "language": "python",
   "name": "python3"
  },
  "language_info": {
   "codemirror_mode": {
    "name": "ipython",
    "version": 3
   },
   "file_extension": ".py",
   "mimetype": "text/x-python",
   "name": "python",
   "nbconvert_exporter": "python",
   "pygments_lexer": "ipython3",
   "version": "3.10.11"
  }
 },
 "nbformat": 4,
 "nbformat_minor": 5
}
